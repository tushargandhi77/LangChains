{
 "cells": [
  {
   "cell_type": "code",
   "execution_count": 1,
   "id": "c489c368",
   "metadata": {},
   "outputs": [],
   "source": [
    "import random\n",
    "class DummyLLM:\n",
    "\n",
    "    def __init__(self):\n",
    "        print(\"LLm Created\")\n",
    "    \n",
    "\n",
    "    def predict(self,prompt):\n",
    "\n",
    "        response_list = [\n",
    "            'Delhi is the capital of India.',\n",
    "            'IPL is the Indian Premier League.',\n",
    "            'AI stands for Artificial Intelligence.',\n",
    "        ]\n",
    "\n",
    "        return {'response':random.choice(response_list)}\n",
    "\n",
    "    "
   ]
  },
  {
   "cell_type": "code",
   "execution_count": 2,
   "id": "2794c0b9",
   "metadata": {},
   "outputs": [
    {
     "name": "stdout",
     "output_type": "stream",
     "text": [
      "LLm Created\n"
     ]
    }
   ],
   "source": [
    "llm = DummyLLM()"
   ]
  },
  {
   "cell_type": "code",
   "execution_count": 3,
   "id": "c8a13449",
   "metadata": {},
   "outputs": [
    {
     "data": {
      "text/plain": [
       "{'response': 'Delhi is the capital of India.'}"
      ]
     },
     "execution_count": 3,
     "metadata": {},
     "output_type": "execute_result"
    }
   ],
   "source": [
    "llm.predict(\"What is the capital of India?\")"
   ]
  },
  {
   "cell_type": "code",
   "execution_count": 4,
   "id": "635d3d6b",
   "metadata": {},
   "outputs": [],
   "source": [
    "class DummyPromptTemplate:\n",
    "\n",
    "    def __init__(self,template,input_variables):\n",
    "        self.template = template\n",
    "        self.input_variables = input_variables\n",
    "\n",
    "    def format(self,input_dict):\n",
    "        return self.template.format(**input_dict)\n",
    "    "
   ]
  },
  {
   "cell_type": "code",
   "execution_count": 5,
   "id": "121979a6",
   "metadata": {},
   "outputs": [],
   "source": [
    "template = DummyPromptTemplate(template=\"Write a {length} poem about {topic}\",\n",
    "                               input_variables=[\"length\",\"topic\"])"
   ]
  },
  {
   "cell_type": "code",
   "execution_count": 6,
   "id": "8b560c89",
   "metadata": {},
   "outputs": [],
   "source": [
    "prompt = template.format({\"length\":\"short\",\"topic\":\"India\"})"
   ]
  },
  {
   "cell_type": "code",
   "execution_count": 7,
   "id": "6134cc7f",
   "metadata": {},
   "outputs": [
    {
     "name": "stdout",
     "output_type": "stream",
     "text": [
      "LLm Created\n"
     ]
    }
   ],
   "source": [
    "llm = DummyLLM()"
   ]
  },
  {
   "cell_type": "code",
   "execution_count": 8,
   "id": "cec98dea",
   "metadata": {},
   "outputs": [
    {
     "data": {
      "text/plain": [
       "{'response': 'AI stands for Artificial Intelligence.'}"
      ]
     },
     "execution_count": 8,
     "metadata": {},
     "output_type": "execute_result"
    }
   ],
   "source": [
    "llm.predict(prompt)"
   ]
  },
  {
   "cell_type": "code",
   "execution_count": 9,
   "id": "904dcc00",
   "metadata": {},
   "outputs": [],
   "source": [
    "class DummyLLMChain:\n",
    "\n",
    "    def __init__(self,llm,prompt):\n",
    "        self.llm = llm\n",
    "        self.prompt = prompt\n",
    "    \n",
    "    def run(self,input_dict):\n",
    "\n",
    "        final_prompt = self.prompt.format(input_dict)\n",
    "        result = self.llm.predict(final_prompt)\n",
    "\n",
    "        return result['response']"
   ]
  },
  {
   "cell_type": "code",
   "execution_count": 10,
   "id": "e4d2a174",
   "metadata": {},
   "outputs": [],
   "source": [
    "template = DummyPromptTemplate(template=\"Write a {length} poem about {topic}\",\n",
    "                               input_variables=[\"length\",\"topic\"])"
   ]
  },
  {
   "cell_type": "code",
   "execution_count": 11,
   "id": "95a4e216",
   "metadata": {},
   "outputs": [
    {
     "name": "stdout",
     "output_type": "stream",
     "text": [
      "LLm Created\n"
     ]
    }
   ],
   "source": [
    "llm = DummyLLM()"
   ]
  },
  {
   "cell_type": "code",
   "execution_count": 12,
   "id": "86743d19",
   "metadata": {},
   "outputs": [],
   "source": [
    "chain = DummyLLMChain(llm=llm,prompt=template)"
   ]
  },
  {
   "cell_type": "code",
   "execution_count": 13,
   "id": "21d7b563",
   "metadata": {},
   "outputs": [
    {
     "data": {
      "text/plain": [
       "'AI stands for Artificial Intelligence.'"
      ]
     },
     "execution_count": 13,
     "metadata": {},
     "output_type": "execute_result"
    }
   ],
   "source": [
    "chain.run({\"length\":\"short\",\"topic\":\"India\"})"
   ]
  }
 ],
 "metadata": {
  "kernelspec": {
   "display_name": "venv",
   "language": "python",
   "name": "python3"
  },
  "language_info": {
   "codemirror_mode": {
    "name": "ipython",
    "version": 3
   },
   "file_extension": ".py",
   "mimetype": "text/x-python",
   "name": "python",
   "nbconvert_exporter": "python",
   "pygments_lexer": "ipython3",
   "version": "3.11.9"
  }
 },
 "nbformat": 4,
 "nbformat_minor": 5
}
