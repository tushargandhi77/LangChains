{
 "cells": [
  {
   "cell_type": "code",
   "execution_count": 1,
   "id": "db58ebad",
   "metadata": {},
   "outputs": [],
   "source": [
    "from abc import ABC, abstractmethod"
   ]
  },
  {
   "cell_type": "code",
   "execution_count": 2,
   "id": "1ca86969",
   "metadata": {},
   "outputs": [],
   "source": [
    "class Runnable(ABC):\n",
    "    @abstractmethod\n",
    "    def invoke(input_data):\n",
    "        pass"
   ]
  },
  {
   "cell_type": "code",
   "execution_count": 6,
   "id": "cdedd613",
   "metadata": {},
   "outputs": [],
   "source": [
    "import random\n",
    "class DummyLLM(Runnable):\n",
    "\n",
    "    def __init__(self):\n",
    "        print(\"LLm Created\")\n",
    "\n",
    "    def invoke(self,prompt):\n",
    "\n",
    "        response_list = [\n",
    "            'Delhi is the capital of India.',\n",
    "            'IPL is the Indian Premier League.',\n",
    "            'AI stands for Artificial Intelligence.',\n",
    "        ]\n",
    "\n",
    "        return {'response':random.choice(response_list)}\n",
    "\n",
    "    def predict(self,prompt):\n",
    "\n",
    "        response_list = [\n",
    "            'Delhi is the capital of India.',\n",
    "            'IPL is the Indian Premier League.',\n",
    "            'AI stands for Artificial Intelligence.',\n",
    "        ]\n",
    "\n",
    "        return {'response':random.choice(response_list)}"
   ]
  },
  {
   "cell_type": "code",
   "execution_count": 10,
   "id": "5a59ea97",
   "metadata": {},
   "outputs": [],
   "source": [
    "class DummyPromptTemplate(Runnable):\n",
    "\n",
    "    def __init__(self,template,input_variables):\n",
    "        self.template = template\n",
    "        self.input_variables = input_variables\n",
    "\n",
    "    def invoke(self, input_dict):\n",
    "        return self.template.format(**input_dict)\n",
    "\n",
    "    def format(self,input_dict):\n",
    "        return self.template.format(**input_dict)"
   ]
  },
  {
   "cell_type": "code",
   "execution_count": 17,
   "id": "a189931b",
   "metadata": {},
   "outputs": [],
   "source": [
    "class DummyStrParser(Runnable):\n",
    "\n",
    "    def __init__(self):\n",
    "        pass\n",
    "\n",
    "    def invoke(self, input_data):\n",
    "\n",
    "        return input_data['response']"
   ]
  },
  {
   "cell_type": "code",
   "execution_count": 12,
   "id": "f324a1b5",
   "metadata": {},
   "outputs": [],
   "source": [
    "class RunnableConnector(Runnable):\n",
    "\n",
    "    def __init__(self,runnable_list):\n",
    "        self.runnable_list = runnable_list\n",
    "\n",
    "    def invoke(self, input_data):\n",
    "        \n",
    "        for runnable in self.runnable_list:\n",
    "            input_data = runnable.invoke(input_data)\n",
    "\n",
    "        return input_data\n",
    "    \n"
   ]
  },
  {
   "cell_type": "code",
   "execution_count": 13,
   "id": "23083e89",
   "metadata": {},
   "outputs": [],
   "source": [
    "template = DummyPromptTemplate(\n",
    "    template=\"What is the capital of {country}?\",\n",
    "    input_variables=[\"country\"]\n",
    ")"
   ]
  },
  {
   "cell_type": "code",
   "execution_count": 14,
   "id": "4f4fea4d",
   "metadata": {},
   "outputs": [
    {
     "name": "stdout",
     "output_type": "stream",
     "text": [
      "LLm Created\n"
     ]
    }
   ],
   "source": [
    "llm = DummyLLM()"
   ]
  },
  {
   "cell_type": "code",
   "execution_count": 18,
   "id": "bc2fbeb8",
   "metadata": {},
   "outputs": [],
   "source": [
    "parser = DummyStrParser()"
   ]
  },
  {
   "cell_type": "code",
   "execution_count": 19,
   "id": "a8c87543",
   "metadata": {},
   "outputs": [],
   "source": [
    "chain = RunnableConnector([template,llm,parser])"
   ]
  },
  {
   "cell_type": "code",
   "execution_count": 20,
   "id": "b1a69938",
   "metadata": {},
   "outputs": [
    {
     "data": {
      "text/plain": [
       "'IPL is the Indian Premier League.'"
      ]
     },
     "execution_count": 20,
     "metadata": {},
     "output_type": "execute_result"
    }
   ],
   "source": [
    "chain.invoke({'country':'India'})"
   ]
  },
  {
   "cell_type": "code",
   "execution_count": 21,
   "id": "3bb1775f",
   "metadata": {},
   "outputs": [],
   "source": [
    "template1 = DummyPromptTemplate(\n",
    "    template = \"Write a joke about {topic}.\",\n",
    "    input_variables = [\"topic\"]\n",
    ")"
   ]
  },
  {
   "cell_type": "code",
   "execution_count": 22,
   "id": "bfe67f62",
   "metadata": {},
   "outputs": [],
   "source": [
    "template2 = DummyPromptTemplate(\n",
    "    template= \"Explain the following joke {response}\",\n",
    "    input_variables=[\"response\"]\n",
    ")"
   ]
  },
  {
   "cell_type": "code",
   "execution_count": 23,
   "id": "9a187462",
   "metadata": {},
   "outputs": [
    {
     "name": "stdout",
     "output_type": "stream",
     "text": [
      "LLm Created\n"
     ]
    }
   ],
   "source": [
    "llm = DummyLLM()"
   ]
  },
  {
   "cell_type": "code",
   "execution_count": 24,
   "id": "64018864",
   "metadata": {},
   "outputs": [],
   "source": [
    "parser = DummyStrParser()"
   ]
  },
  {
   "cell_type": "code",
   "execution_count": 27,
   "id": "de6a6f4c",
   "metadata": {},
   "outputs": [],
   "source": [
    "chain1 = RunnableConnector([template1,llm])"
   ]
  },
  {
   "cell_type": "code",
   "execution_count": 29,
   "id": "1cfb8eef",
   "metadata": {},
   "outputs": [],
   "source": [
    "chain2 = RunnableConnector([template2,llm,parser])"
   ]
  },
  {
   "cell_type": "code",
   "execution_count": 30,
   "id": "6b06d3a5",
   "metadata": {},
   "outputs": [],
   "source": [
    "final_chain = RunnableConnector([chain1, chain2])"
   ]
  },
  {
   "cell_type": "code",
   "execution_count": 31,
   "id": "df8bb6c7",
   "metadata": {},
   "outputs": [
    {
     "data": {
      "text/plain": [
       "'Delhi is the capital of India.'"
      ]
     },
     "execution_count": 31,
     "metadata": {},
     "output_type": "execute_result"
    }
   ],
   "source": [
    "final_chain.invoke({'topic': 'Python'})"
   ]
  },
  {
   "cell_type": "code",
   "execution_count": null,
   "id": "ea5b8184",
   "metadata": {},
   "outputs": [],
   "source": []
  }
 ],
 "metadata": {
  "kernelspec": {
   "display_name": "venv",
   "language": "python",
   "name": "python3"
  },
  "language_info": {
   "codemirror_mode": {
    "name": "ipython",
    "version": 3
   },
   "file_extension": ".py",
   "mimetype": "text/x-python",
   "name": "python",
   "nbconvert_exporter": "python",
   "pygments_lexer": "ipython3",
   "version": "3.11.9"
  }
 },
 "nbformat": 4,
 "nbformat_minor": 5
}
